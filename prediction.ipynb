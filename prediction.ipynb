{
 "cells": [
  {
   "cell_type": "code",
   "execution_count": 1,
   "metadata": {
    "ExecuteTime": {
     "end_time": "2024-05-01T18:10:47.177125Z",
     "start_time": "2024-05-01T18:10:47.163135Z"
    }
   },
   "outputs": [],
   "source": [
    "import pickle\n",
    "my_model = \"house_model.pickle\"\n"
   ]
  },
  {
   "cell_type": "code",
   "execution_count": 2,
   "metadata": {
    "ExecuteTime": {
     "end_time": "2024-05-01T18:10:48.219124Z",
     "start_time": "2024-05-01T18:10:47.182122Z"
    }
   },
   "outputs": [],
   "source": [
    "a = pickle.load(open(my_model,\"rb\"))"
   ]
  },
  {
   "cell_type": "code",
   "execution_count": 3,
   "metadata": {
    "ExecuteTime": {
     "end_time": "2024-05-01T18:11:55.566823Z",
     "start_time": "2024-05-01T18:10:48.229103Z"
    }
   },
   "outputs": [
    {
     "name": "stdout",
     "output_type": "stream",
     "text": [
      "enter the bedrooms:10\n",
      "---------------------------------------\n",
      "enter the bathrooms:2\n",
      "---------------------------------------\n",
      "enter the sqft_living:5\n",
      "---------------------------------------\n",
      "enter the sqft_lot:1455\n",
      "---------------------------------------\n",
      "enter the floors:3\n",
      "---------------------------------------\n",
      "enter the waterfront:0\n",
      "---------------------------------------\n",
      "enter the sqft_above:1224\n",
      "---------------------------------------\n",
      "enter the sqft_basement:1100\n",
      "---------------------------------------\n",
      "enter the yr_built:211\n",
      "---------------------------------------\n",
      "the price of the house:550000.0\n"
     ]
    },
    {
     "name": "stderr",
     "output_type": "stream",
     "text": [
      "C:\\Users\\ALLAH\\anaconda3\\envs\\notebook\\lib\\site-packages\\sklearn\\base.py:465: UserWarning: X does not have valid feature names, but LogisticRegression was fitted with feature names\n",
      "  warnings.warn(\n"
     ]
    }
   ],
   "source": [
    "first=int(input(\"enter the bedrooms:\"))\n",
    "print(\"---------------------------------------\")\n",
    "second=int(input(\"enter the bathrooms:\"))\n",
    "print(\"---------------------------------------\")\n",
    "third=int(input(\"enter the sqft_living:\"))\n",
    "print(\"---------------------------------------\")\n",
    "fourth=int(input(\"enter the sqft_lot:\"))\n",
    "print(\"---------------------------------------\")\n",
    "five=int(input(\"enter the floors:\"))\n",
    "print(\"---------------------------------------\")\n",
    "six=int(input(\"enter the waterfront:\"))\n",
    "print(\"---------------------------------------\")\n",
    "seven=int(input(\"enter the sqft_above:\"))\n",
    "print(\"---------------------------------------\")\n",
    "eight=int(input(\"enter the sqft_basement:\"))\n",
    "print(\"---------------------------------------\")                          \n",
    "nine=int(input(\"enter the yr_built:\"))\n",
    "print(\"---------------------------------------\")\n",
    "s=a.predict([[first,second,third,fourth,five,six,seven,eight,nine]])\n",
    "print(\"the price of the house:{0}\".format(s[0]))"
   ]
  },
  {
   "cell_type": "code",
   "execution_count": null,
   "metadata": {},
   "outputs": [],
   "source": []
  },
  {
   "cell_type": "code",
   "execution_count": null,
   "metadata": {},
   "outputs": [],
   "source": []
  }
 ],
 "metadata": {
  "kernelspec": {
   "display_name": "Python 3 (ipykernel)",
   "language": "python",
   "name": "python3"
  },
  "language_info": {
   "codemirror_mode": {
    "name": "ipython",
    "version": 3
   },
   "file_extension": ".py",
   "mimetype": "text/x-python",
   "name": "python",
   "nbconvert_exporter": "python",
   "pygments_lexer": "ipython3",
   "version": "3.8.18"
  },
  "toc": {
   "base_numbering": 1,
   "nav_menu": {},
   "number_sections": true,
   "sideBar": true,
   "skip_h1_title": false,
   "title_cell": "Table of Contents",
   "title_sidebar": "Contents",
   "toc_cell": false,
   "toc_position": {},
   "toc_section_display": true,
   "toc_window_display": false
  },
  "varInspector": {
   "cols": {
    "lenName": 16,
    "lenType": 16,
    "lenVar": 40
   },
   "kernels_config": {
    "python": {
     "delete_cmd_postfix": "",
     "delete_cmd_prefix": "del ",
     "library": "var_list.py",
     "varRefreshCmd": "print(var_dic_list())"
    },
    "r": {
     "delete_cmd_postfix": ") ",
     "delete_cmd_prefix": "rm(",
     "library": "var_list.r",
     "varRefreshCmd": "cat(var_dic_list()) "
    }
   },
   "types_to_exclude": [
    "module",
    "function",
    "builtin_function_or_method",
    "instance",
    "_Feature"
   ],
   "window_display": false
  }
 },
 "nbformat": 4,
 "nbformat_minor": 2
}
